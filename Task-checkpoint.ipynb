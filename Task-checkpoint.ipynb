{
 "cells": [
  {
   "cell_type": "code",
   "execution_count": 2,
   "metadata": {},
   "outputs": [],
   "source": [
    "import json\n",
    "import requests"
   ]
  },
  {
   "cell_type": "code",
   "execution_count": 3,
   "metadata": {},
   "outputs": [],
   "source": [
    "r= requests.get('https://o136z8hk40.execute-api.us-east-1.amazonaws.com/dev/get-list-of-conferences')"
   ]
  },
  {
   "cell_type": "code",
   "execution_count": null,
   "metadata": {},
   "outputs": [],
   "source": [
    "# print(r)\n",
    "# print(r.content)\n",
    "# print request object \n",
    "# print(response.url) \n",
    "  \n",
    "# print status code \n",
    "# print(response.status_code) "
   ]
  },
  {
   "cell_type": "code",
   "execution_count": null,
   "metadata": {},
   "outputs": [],
   "source": [
    "#NOTE: no authenticationn needed, checkedd through postman"
   ]
  },
  {
   "cell_type": "code",
   "execution_count": 7,
   "metadata": {},
   "outputs": [
    {
     "name": "stdout",
     "output_type": "stream",
     "text": [
      "<Response [200]>\n",
      "<class 'requests.models.Response'>\n",
      "<class 'dict'>\n"
     ]
    }
   ],
   "source": [
    "print(r)\n",
    "print(type(r))\n",
    "# extracting data in json format \n",
    "data = r.json() \n",
    "print(type(data))"
   ]
  },
  {
   "cell_type": "code",
   "execution_count": 18,
   "metadata": {},
   "outputs": [
    {
     "name": "stdout",
     "output_type": "stream",
     "text": [
      "dict_keys(['display_paid', 'paid', 'free', 'display_free'])\n",
      "<class 'int'>\n",
      "<class 'list'>\n",
      "<class 'list'>\n",
      "<class 'int'>\n"
     ]
    }
   ],
   "source": [
    "print(data.keys())\n",
    "for i in data.keys():\n",
    "    print(type(data[i]))\n"
   ]
  },
  {
   "cell_type": "code",
   "execution_count": 20,
   "metadata": {},
   "outputs": [
    {
     "name": "stdout",
     "output_type": "stream",
     "text": [
      "103\n",
      "<class 'list'>\n",
      "<class 'dict'>\n"
     ]
    }
   ],
   "source": [
    "print(len(data['paid']))\n",
    "print(type(data['paid']))\n",
    "print(type(data['paid'][0]))"
   ]
  },
  {
   "cell_type": "markdown",
   "metadata": {},
   "source": [
    "# TASK 1: TO generate usable readable format"
   ]
  },
  {
   "cell_type": "code",
   "execution_count": 27,
   "metadata": {},
   "outputs": [],
   "source": [
    "list1_paid =[]\n",
    "\n",
    "for i in data['paid']:\n",
    "    tmp=i['confName']+\" held on:  \"+i['confStartDate']+\" to \"+i['confEndDate']+ \" at \"\n",
    "    tmp+=i['venue']+\" at \"+i['city']+\" \"+i['country']+\" \"+i['entryType']+\" for details, pls visit: \"\n",
    "    tmp+=i['confUrl']\n",
    "    list1_paid.append(tmp)\n",
    "    "
   ]
  },
  {
   "cell_type": "code",
   "execution_count": 30,
   "metadata": {},
   "outputs": [
    {
     "name": "stdout",
     "output_type": "stream",
     "text": [
      "Antarcticonf The Conference At The Edge Of The World held on:  05 Jan, 2020 to 21 Jan, 2020 at Antarctic Peninsula (from San Antonio, Chile) at San Antonio Chile Paid for details, pls visit: https://antarcticonf.com/\n",
      "Trion All India Bootcamp held on:  19 Jan, 2020 to 20 Jan, 2020 at Delhi Technological University, Shahbad Daulatpur Village, Rohini Delhi, 110042 at Delhi India Paid for details, pls visit: https://konfhub.com/trionbootcamp\n",
      "DELIVERY CONF  held on:  21 Jan, 2020 to 22 Jan, 2020 at Hyatt Regency Seattle, Howell Street, Seattle, WA, USA at Seattle USA Paid for details, pls visit: https://www.deliveryconf.com\n",
      "AppSec California held on:  21 Jan, 2020 to 24 Jan, 2020 at Annenberg Community Beach House, 415 Pacific Coast Highway, Santa Monica, CA 90402, United States at Santa Monica USA Paid for details, pls visit: https://2020.appseccalifornia.org/\n",
      "NDC Security 2020 held on:  22 Jan, 2020 to 24 Jan, 2020 at Clarion Hotel Oslo, Dronning Eufemias gate 15, 0191 Oslo, Norge at Oslo Norway Paid for details, pls visit: https://ndc-security.com/\n",
      "Machine Learning Developers held on:  22 Jan, 2020 to 23 Jan, 2020 at NIMHANS Convention center at Bangalore India Paid for details, pls visit: https://www.mlds.analyticsindiasummit.com/\n",
      "NDC London 2020  held on:  27 Jan, 2020 to 31 Jan, 2020 at Queen Elizabeth II Centre, Broad Sanctuary, London, UK at London England Paid for details, pls visit: https://ndc-london.com/\n",
      "Distributed Systems Conference  held on:  01 Feb, 2020 to 01 Feb, 2020 at Viman Nagar, Pune, Maharashtra, India at Pune India Paid for details, pls visit: https://dsconf.in/\n",
      "Data Business Congress 2020 held on:  03 Feb, 2020 to 04 Feb, 2020 at San Jose Marriott 301 S Market St San Jose, CA 95113 US at San Jose  USA Paid for details, pls visit: https://web.cvent.com/event/10240ffb-fa61-43b2-9038-73c9838049ae/summary\n",
      "Microsoft Lgnite The Tour Washington held on:  06 Feb, 2020 to 07 Feb, 2020 at Walter E. Washinton Convetion center  at Washington US Paid for details, pls visit: https://www.microsoft.com/en-us/ignite-the-tour/washington-dc\n",
      "Alexa Community Day Bengaluru 2020 held on:  08 Feb, 2020 to 08 Feb, 2020 at Bangalore International Centre (BIC), No. 7, 4th Main Rd, Stage 2, Domlur, Bengaluru, Karnataka 560071 at Bangalore India Paid for details, pls visit: https://konfhub.com/alexablr\n",
      "ANNUAL INTERNATIONAL CONFERENCE On Data Science Machine Learning Blockchain Technology held on:  12 Feb, 2020 to 13 Feb, 2020 at Vidyavardhaka College of Engineering: Department Of Electronics & Communication, Mahadeswara Badavane, Vijayanagar 1st Stage, Vijayanagar, Mysuru, Karnataka, India at Mysore  India Paid for details, pls visit: https://aicdmb.co.in/\n",
      "HR Tech held on:  15 Feb, 2020 to 15 Feb, 2020 at Taj Lands End, Mumbai, Byramji Jeejeebhoy Road, Mount Mary, Bandra West, Mumbai, Maharashtra, India at Mumbai India Paid for details, pls visit: https://www.worldhrdcongress.com/HRD/hrtech/Mumbai/mumbai-index.html\n",
      "Data Science Salon held on:  18 Feb, 2020 to 19 Feb, 2020 at Brazos Hall, 204 E 4th St  Austin, TX 78701 at Austin  USA Paid for details, pls visit: https://www.datascience.salon/austin/\n",
      "PHP UK Conference 2020  held on:  19 Feb, 2020 to 21 Feb, 2020 at London, UK at London England Paid for details, pls visit: https://www.papercall.io/phpuk2020\n",
      "GraphQL Asia 2020 held on:  20 Feb, 2020 to 22 Feb, 2020 at The Leela Palace Bengaluru, A Contemporary Luxury Hotel, HAL Old Airport Road, HAL 2nd Stage, Kodihalli, Bengaluru, Karnataka, India at Bengaluru India Paid for details, pls visit: https://graphql.asia/\n",
      "DevOpsCon London 2020 held on:  22 Feb, 2020 to 24 Feb, 2020 at Park Plaza Victoria London at London  UK Paid for details, pls visit: https://devopscon.io/london/\n",
      "Software Architecture Conference held on:  25 Feb, 2020 to 26 Feb, 2020 at Hilton Midtown,1335 Avenue of the Americas New York, New York, 10019 at New York  USA Paid for details, pls visit: https://conferences.oreilly.com/software-architecture/sa-ny\n",
      "PGConf India 2020 held on:  26 Feb, 2020 to 28 Feb, 2020 at Radisson Blu Bengaluru Outer Ring Road, 90/4, Outer Ring Road, Marathahalli Village, Marathahalli, Bengaluru, Karnataka, India at Bangalore India Paid for details, pls visit: https://pgconf.in/conferences/pgconfin2020\n",
      "QCon London held on:  02 Mar, 2020 to 04 Mar, 2020 at The queen Elizabeth 11 Conference Center - London at London UK Paid for details, pls visit: https://qconlondon.com/\n",
      "GOTO Oslo 2020 held on:  03 Mar, 2020 to 05 Mar, 2020 at Oslo, Norway at oslo norway Paid for details, pls visit: https://goto-oslo.com/\n",
      "Devopsdays NYC 2020 held on:  03 Mar, 2020 to 04 Mar, 2020 at New York Academy of Medicine 1216 5th Ave, New York, NY 10029 at New York USA Paid for details, pls visit: https://www.papercall.io/dodnyc2020\n",
      "ScaleConf  held on:  05 Mar, 2020 to 06 Mar, 2020 at Kirstenbosch Botanical Gardens, Rhodes Drive, Newlands, Cape Town, South Africa at Cape Town South Africa Paid for details, pls visit: https://scaleconf.org/\n",
      "Namma Cloud Conference held on:  06 Mar, 2020 to 07 Mar, 2020 at Radisson Blu Bengaluru Outer Ring Road , Bengaluru at Bangalore India Paid for details, pls visit: https://konfhub.com/ncc/index.html\n",
      " JavaScript Fwdays held on:  14 Mar, 2020 to 14 Mar, 2020 at 4 and 5 floors , Mercure Congress Hall,  kyiv , ukraine  at Kyiv  Ukraine Paid for details, pls visit: https://fwdays.com/en/event/js-fwdays-2020\n",
      "Agile India 2020 held on:  15 Mar, 2020 to 22 Mar, 2020 at Itc gardenia , no1 residency road Bengaluru  560025 at Bangalore India Paid for details, pls visit: https://2020.agileindia.org/\n",
      "DevOps Talks Conference Melbourne held on:  18 Mar, 2020 to 20 Mar, 2020 at Melbourne Convention and Exhibition Centre (MCEC), Convention Centre Place, South Wharf VIC, Australia at Melbourne Australia Paid for details, pls visit: https://devops.talksplus.com/au/devops.html\n",
      "Devops Pro Europe 2020 held on:  24 Mar, 2020 to 26 Mar, 2020 at Multikino Ozo str. 18, LT–08243  Vilnius, Lithuania at Vilnius  Lithuania Paid for details, pls visit: https://devopspro.lt/\n",
      "Dev Next held on:  24 Mar, 2020 to 27 Mar, 2020 at Omni Interlocken Hotel, Interlocken Boulevard, Broomfield, Colorado, USA at Broomfield USA Paid for details, pls visit: https://www.devdotnext.com/\n",
      "Scale Summit held on:  27 Mar, 2020 to 27 Mar, 2020 at 15Hatfields, 15Hatfields, London SE1 8DJ, United Kingdom at London  UK Paid for details, pls visit: https://www.scalesummit.org/\n",
      "Kubecon Cloudnative Europe held on:  30 Mar, 2020 to 02 Apr, 2020 at Europaplein 24, 1078 GZ Amsterdam, The Netherlands at Amsterdam Netherlands Paid for details, pls visit: https://events.linuxfoundation.org/kubecon-cloudnativecon-europe/\n",
      "WORLD'S ORIGINAL ANGULAR CONFERENCE held on:  01 Apr, 2020 to 03 Apr, 2020 at The Grand America Hotel, Main Street, Salt Lake City, UT, USA at Salt Lake City USA Paid for details, pls visit: https://www.ng-conf.org/\n",
      "DevOn Summit held on:  02 Apr, 2020 to 02 Apr, 2020 at Westkanaaldijk 7, 3542 DA Utrecht, Netherlands at Utrecht netherlands Paid for details, pls visit: https://www.devonsummit.com/\n",
      "DevOpsDays Toronto 2020 held on:  16 Apr, 2020 to 17 Apr, 2020 at Sheraton Centre Toronto Hotel, 123 Queen Street West, Toronto, ON M5H 2M9, Canada at Toronto  Canada Paid for details, pls visit: https://devopsdays.org/events/2020-toronto/welcome/\n",
      "NDC Porto 2020 held on:  21 Apr, 2020 to 24 Apr, 2020 at R. Nova da Alfândega, 4050-430 Porto, Portugal at Porto  Portugal Paid for details, pls visit: https://ndcporto.com/\n",
      " DEVOPS 2020 held on:  21 Apr, 2020 to 23 Apr, 2020 at Clarion Hotel Helsinki, Tyynenmerenkatu 2, FI-00220 Helsinki, Finland at Helsinki Finland Paid for details, pls visit: https://devops2020.com/\n",
      "React Day held on:  25 Apr, 2020 to 25 Apr, 2020 at Bangalore, Karnataka, India at Bangalore India Paid for details, pls visit: https://reactday.in/\n",
      "Red Hat Summit 2020  held on:  27 Apr, 2020 to 29 Apr, 2020 at San Francisco, CA, USA at San Francisco  USA Paid for details, pls visit: https://www.redhat.com/en/summit\n",
      "DevOps Conference held on:  29 Apr, 2020 to 30 Apr, 2020 at Radisson Slavyanskaya Hotel & Business Center at Moscow Russia Paid for details, pls visit: https://devoops-moscow.ru/en/\n",
      "AWS Community Day held on:  29 Apr, 2020 to 29 Apr, 2020 at AHMEDABAD MANAGEMENT ASSOCIATION(AMA)  ATIRA CAMPUS, DR VIKRAM SARABHAI MARG, UNIVERSITY AREA, AHMEDABAD, GUJARAT 380015 at Ahmedabad India Paid for details, pls visit: https://awsahmedabad.community/\n",
      "MongoDB World 2020  held on:  04 May, 2020 to 06 May, 2020 at 1335 Avenue of the Americas, New York, NY 10019, United States at New York  USA Paid for details, pls visit: https://www.eventbrite.com/e/mongodb-world-2020-tickets-63496684292\n",
      "Devopsdays Austin held on:  04 May, 2020 to 05 May, 2020 at 11301 Domain Drive, Austin, Texas 78758, USA at Austin US Paid for details, pls visit: https://devopsdays.org/events/2020-austin/welcome/\n",
      "ABOVE CLOUDS 2020 held on:  09 May, 2020 to 09 May, 2020 at Tomislavov dom hotel Sljemenska cesta 24, Zagreb Croatia, Europe at Zagreb CROATIA Paid for details, pls visit: https://www.abovecloudsconf.com/\n",
      "IcingaConf2020 held on:  23 June, 2020 to 25 June, 2020 at Piet Heinkade 179, 1019 HC Amsterdam, Netherlands at Amsterdam Netherlands Paid for details, pls visit: https://icingaconf.com/\n",
      "Ingram Micro Cloud Summit 2020 Cloud Summit held on:  12 May, 2020 to 14 May, 2020 at Miami Beach, Florida at Miami Beach  USA Paid for details, pls visit: https://cloudsummit.ingrammicrocloud.com/\n",
      "Continuos Life Cycle London 2020 held on:  13 May, 2020 to 14 May, 2020 at QEII Centre  at London  UK Paid for details, pls visit: https://continuouslifecycle.london/\n",
      "J On The Beach held on:  13 May, 2020 to 15 May, 2020 at Málaga, Spain at Málaga  Spain Paid for details, pls visit: https://www.jonthebeach.com/\n",
      "IT Security Summit 2020  held on:  18 May, 2020 to 20 May, 2020 at Holiday Inn Munich - Unterhaching, Inselkammerstraße 7-9, 82008 Unterhaching, Germany at Munich Germany Paid for details, pls visit: https://it-security-summit.de/\n",
      "DevSecCon held on:  27 May, 2020 to 29 May, 2020 at Boston Public Library, Boylston Street, Boston, MA, USA at Boston USA Paid for details, pls visit: https://www.devseccon.com/boston-2020/\n",
      "Newcrafts held on:  28 May, 2020 to 29 May, 2020 at 3, Quai de Grenelle, Paris at Paris  France Paid for details, pls visit: http://www.ncrafts.io/\n",
      "Agile Portugal  held on:  31 May, 2020 to 31 May, 2020 at ISEP - Instituto Superior de Engenharia do Porto, Rua Doutor António Bernardino de Almeida, Porto, Portugal at Porto Portugal Paid for details, pls visit: https://agilept.org\n",
      "ChefConf 2020 held on:  01 Jun, 2020 to 04 Jun, 2020 at The Hyatt Regency Seattle  at Seattle  USA Paid for details, pls visit: https://chefconf.io/\n",
      "Agile Devops West A Techwell Event held on:  07 Jun, 2020 to 12 Jun, 2020 at Caesars Palace Las Vegas Hotel & Casino, South Las Vegas Boulevard, Las Vegas, NV, USA at Las Vegas USA Paid for details, pls visit: https://agiledevopswest.techwell.com/\n",
      "Portland 2020 held on:  08 Jun, 2020 to 10 Jun, 2020 at Gerding Theater at The Armory at Oregon City  USA Paid for details, pls visit: http://monitorama.com/2020/pdx.html\n",
      "Craft Conference held on:  09 Jun, 2020 to 12 Jun, 2020 at Budapest, Hungary at Budapest  Hungary Paid for details, pls visit: https://craft-conf.com/\n",
      "FlOW held on:  10 Jun, 2020 to 11 Jun, 2020 at Kinepolis Jaarbeurs Utrecht at Utrecht Netherlands Paid for details, pls visit: https://srvision.nl/en\n",
      "QCon held on:  15 Jun, 2020 to 19 Jun, 2020 at Marriott Marquis ny at New York US Paid for details, pls visit: https://qconnewyork.com/\n",
      "DockerCon held on:  15 Jun, 2020 to 18 Jun, 2020 at austin at Austin  US Paid for details, pls visit: https://www.docker.com/dockercon/\n",
      "Internet Of Things Conference 2020 held on:  17 Jun, 2020 to 19 Jun, 2020 at Sheraton Munich Arabellapark Hotel, Arabellastraße 5, 81925 Munich, Germany at Munich Germany Paid for details, pls visit: https://iotcon.de/de/\n",
      "Machine Learning Conference held on:  17 Jun, 2020 to 19 Jun, 2020 at Sheraton Munich Arabellapark Hotel, Arabellastraße 5, 81925 Munich, Germany at Munich Germany Paid for details, pls visit: https://mlconference.ai/\n",
      "Bareos held on:  19 Jun, 2020 to 19 Jun, 2020 at Nh Collection Berlin Mitte Friedrichstrasse, Georgenstraße, Berlin, Germany at Berlin  Germany Paid for details, pls visit: https://opensourcecamp.de/\n",
      "DevOps Enterprise Summit held on:  23 Jun, 2020 to 25 Jun, 2020 at Waterview Dr, London SE10 0TW, UK at London  UK Paid for details, pls visit: https://events.itrevolution.com/eur\n",
      "DevOps Enterprise Summit held on:  23 Jun, 2020 to 25 Jun, 2020 at InterContinental London – The O2 at London  UK Paid for details, pls visit: https://events.itrevolution.com/\n",
      "DevOps India Summit held on:  10 Jul, 2020 to 11 Jul, 2020 at Sheraton Grand Bengaluru Whitefield Hotel & Convention Center, Thigalarapalya, Whitefield, Bengaluru, Karnataka, India at Bengaluru India Paid for details, pls visit: https://devopsindiasummit.com/\n",
      "MongoDB Local Houston 2019  held on:  20 Aug, 2020 to 20 Aug, 2020 at House of Blues Houston, Caroline Street, Houston, TX, USA at Houston Texas Paid for details, pls visit: https://www.eventbrite.com/e/mongodblocal-houston-2019-tickets-64189746259\n",
      "IoTShow.in held on:  13 Feb, 2020 to 15 Feb, 2020 at KTPO, KIADB Export Promotion Industrial Area, Whitefield, Bengaluru, Karnataka, India at  Bangalore India Paid for details, pls visit: https://www.iotshow.in/\n",
      "Machine Learning Developers held on:  30 Jan, 2020 to 31 Jan, 2020 at Khemka Auditorium, Indian School of Business, Hyderabad, India at  Hyderabad India Paid for details, pls visit: https://www.mlds.analyticsindiasummit.com/\n",
      "Title of conf held on:  07 May, 2020 to 07 May, 2020 at The gorgeous Garden Theater in Midtown Detroit, Michigan at  Detroit USA Paid for details, pls visit: https://www.titleofconf.org/\n",
      "self.conference held on:  08 May, 2020 to 09 May, 2020 at Charles H. Wright Museum, 315 E Warren Ave, Detroit, MI 48201, USA at  Detroit USA Paid for details, pls visit: https://selfconference.org/\n",
      "Open UP Global Summit 2020 held on:  12 Sept, 2020 to 13 Sept, 2020 at Syntrend, Section 3, Civic Boulevard, Zhongzheng District, Taipei City, Taiwan at  Taipei Taiwan Paid for details, pls visit: https://www.wetogether.co/events/10038\n",
      "Car Summit held on:  07 April, 2020 to 08 April, 2020 at Club Auto Sport  Club Auto Sport - San Jose, California at  San Jose USA Paid for details, pls visit: https://www.voiceofthecar.com/\n",
      "Conversational Interaction Conference held on:  10 February, 2020 to 11 February, 2020 at 2050 Gateway Place, San Jose, California 95110, USA at  San Jose USA Paid for details, pls visit: https://www.conversationalinteraction.com/\n",
      "Speech Tek held on:  27 April, 2020 to 29 April, 2020 at JW MARRIOTT WASHINGTON DC, USA at  Washington D.C. USA Paid for details, pls visit: https://www.speechtek.com/2019/default.aspx\n",
      "One Voice Conference held on:  07 May, 2020 to 10 May, 2020 at 265 Rotherhithe St, London SE16 5HW, UK at  London United Kingdom Paid for details, pls visit: https://www.onevoiceconference.com/\n",
      "Voice of Healthcare Summit held on:  05 August, 2020 to 06 August, 2020 at 77 Avenue Louis Pasteur, Boston, MA 02115, USA at  Boston USA Paid for details, pls visit: https://www.vohsummit.com/\n",
      "Frontend Developer Love held on:  05 August, 2020 to 21 February, 2020 at Theater Carré, Amstel, Amsterdam, Netherlands at  Amsterdam  Netherlands Paid for details, pls visit: https://frontenddeveloperlove.com/\n",
      "JSConf Mexico held on:  04 May, 2020 to 05 May, 2020 at Mexico city, Mexico at  Mexico city  Mexico Paid for details, pls visit: https://jsconf.mx/\n",
      "Smart Commerce 2020 held on:  29 January, 2020 to 29 January, 2020 at Kattilahalli, Sörnäisten rantatie 22, 00540 Helsinki, Finland at  kattilahalli    Helsinki Paid for details, pls visit: https://www.smartcommercenordic.com/\n",
      "Business of BOTS held on:  05 February, 2020 to 07 February, 2020 at Marines’ Memorial Club & Hotel 609 Sutter St.San Francisco, CA 94102 at  San francisco    USA Paid for details, pls visit: https://businessofbots.com/\n",
      "Alexa Community Day held on:  08 February, 2020 to 08 February, 2020 at Bangalore International Centre (BIC), 7, 4th Main Road, Domlur II Stage, Bengaluru, Karnataka 560071 at  Bangalore    India Paid for details, pls visit: https://www.alexacommunity.in/\n",
      "Byteconf GraphQL 2020 held on:  31 January, 2020 to 01 February, 2020 at online at       Paid for details, pls visit: https://www.bytesized.xyz/graphql-2020\n",
      "The Global Women in Data Science Hyderabad held on:  15 February, 2020 to 15 February, 2020 at Amazon Development Centre India Pvt Ltd  Sy No: 115 part, Plot No 12P, 13,14, 15P, Financial District, Nanakramguda, Gachibowli, Serilingampalli, Hyderabad - 500032, Telangana, India. at  Hyderabad    India Paid for details, pls visit: http://widshyderabad2019.com/\n",
      "collision held on:  22 June, 2020 to 25 June, 2020 at enercare centre princes' boulevard toronto on at  Toronto     Canada Paid for details, pls visit: https://collisionconf.com/\n",
      "ng-India held on:  29 February, 2020 to 29 February, 2020 at The Leela Ambience Convention Hotel Delhi, 1, CBD, Maharaj Surajmal Road Near Yamuna Sports Complex, Delhi, 110032 at  Delhi     India Paid for details, pls visit: https://www.ng-ind.com/\n",
      "Serverless Architecture Conference held on:  20 April, 2020 to 22 April, 2020 at THE HAGUE MARRIOTT HOTEL Johan De Wittlaan 30, 2517 JR The Hague at  The Hague   Netherlands Paid for details, pls visit: https://serverless-architecture.io/\n",
      "Voxxed Days Singapore 2020 held on:  05 June, 2020 to 05 June, 2020 at Singapore at     Singapore Paid for details, pls visit: https://voxxeddays.com/singapore/\n",
      "SuperBot 2020 held on:  31 March, 2020 to 31 March, 2020 at Bespoke Westfield San Francisco Centre 845 Market St, Level 4 San Francisco, CA 94103 at  San Francisco   USA Paid for details, pls visit: https://www.dashbot.io/superbot/sb2020/register\n",
      "DSConf 2020 held on:  01 Feb, 2020 to 01 Feb, 2020 at Novotel Pune Nagar Road, Nagar Rd, Sakore Nagar, Viman Nagar, Pune, Maharashtra 411014, India at Pune  India Paid for details, pls visit: https://dsconf.in/\n",
      "Doppa 2020 held on:  27 June, 2020 to 27 June, 2020 at Hilton, Embassy Golf Links Business Park Off Intermediate Ring Road, Domlur, Bangalore, 560071, India at Bangalore  India Paid for details, pls visit: https://doppa2020.devopsppalliance.org/\n",
      "Google Cloud Next held on:  06 April, 2020 to 08 April, 2020 at 747 Howard St, San Francisco, CA 94103, United States at San francisco  USA Paid for details, pls visit: http://g.co/cloudnext\n",
      "AWS Summit Mumbai held on:  08 April, 2020 to 09 April, 2020 at Bombay Exhibition Centre NESCO, Goregaon East, Mumbai, Maharashtra 400063, India at   Mumbai   India Paid for details, pls visit: https://aws.amazon.com/events/summits/mumbai/\n",
      "AWS Summit Mumbai held on:  08 April, 2020 to 09 April, 2020 at Bombay Exhibition Centre NESCO, Goregaon East, Mumbai, Maharashtra 400063, India at   Mumbai   India Paid for details, pls visit: https://aws.amazon.com/events/summits/mumbai/\n",
      "IUI 2020 held on:  17 March, 2020 to 20 March, 2020 at T Hotel Cagliari, Via dei Giudicati, 66, 09131 Cagliari, Cagliari Metropolitan City of Cagliari, Italy at   Cagliari    Italy Paid for details, pls visit: http://iui.acm.org/2020/\n",
      "Security Architecture Conference held on:  21 February, 2020 to 22 February, 2020 at Taj Yeswantpur,Tumkur Main Rd, Yeshwanthpur Industrial Area, Phase 1, Yeswanthpur, Bengaluru, Karnataka 560022 at Bangalore India Paid for details, pls visit: https://www.sacon.io/\n",
      "HashiConf US held on:  13 October, 2020 to 15 October, 2020 at Town and Country San Diego, 500 Hotel Cir N, San Diego, CA 92108, USA at San Diego USA Paid for details, pls visit: https://hashiconf.com/us/\n",
      "HashiConf EU held on:  08 June, 2020 to 10 June, 2020 at Gashouder, Westergafabriek, Klönneplein 1, 1014 DD Amsterdam, Netherlands at Amsterdam Netherlands Paid for details, pls visit: https://hashiconf.com/eu/\n",
      "HashiDays  held on:  06 April, 2020 to 07 April, 2020 at Roslyn Packer Theatre, Hickson Road, Walsh Bay NSW, Australia at Sydney NSW  Australia Paid for details, pls visit: https://hashidays.com/\n",
      "Scrum Day Chennai  held on:  25 July, 2020 to 25 July, 2020 at Novotel Chennai Omr, OMR Road, Sholinganallur, Chennai, Tamil Nadu, India at Chennai  India Paid for details, pls visit: http://www.scrumdaychennai.com/\n",
      "JuliaCon 2020  held on:  27 July, 2020 to 31 July, 2020 at Iscte - Instituto Universitário de Lisboa, Avenida das Forças Armadas, Lisbon, Portugal at Lisbon Portugal Paid for details, pls visit: https://juliacon.org/2020/\n",
      "REFACTOR 2020: Serverless  held on:  22 May, 2020 to 22 May, 2020 at Toronto Public Library - Toronto Reference Library, 789 Yonge Street, Toronto, ON, Canada at Toronto  Canada Paid for details, pls visit: https://refactorconf.com/2020/serverless/\n",
      "GraphQL Summit  held on:  27 October, 2020 to 28 October, 2020 at Hilton San Francisco Union Square, O'Farrell Street, San Francisco, CA, USA at San Francisco  USA Paid for details, pls visit: https://summit.graphql.com/\n",
      "React Day Norway held on:  26 June, 2020 to 26 June, 2020 at Farris Bad Fritzøe Brygge 2 3264 Larvik Norway at Larvik   Norway Paid for details, pls visit: https://reactnorway.com/\n",
      "Cloud Native Security Day held on:  30 March, 2020 to 30 March, 2020 at RAI Amsterdam in Amsterdam, The Netherlands at Amsterdam The Netherlands Paid for details, pls visit: https://events.linuxfoundation.org/cloud-native-security-day/\n"
     ]
    }
   ],
   "source": [
    "for i in list1_paid:\n",
    "    print(i)"
   ]
  },
  {
   "cell_type": "code",
   "execution_count": 28,
   "metadata": {},
   "outputs": [],
   "source": [
    "list2_free=[]\n",
    "\n",
    "for i in data['free']:\n",
    "    tmp=i['confName']+\" held on:  \"+i['confStartDate']+\" to \"+i['confEndDate']+ \" at \"\n",
    "    tmp+=i['venue']+\" at \"+i['city']+\" \"+i['country']+\" \"+i['entryType']+\" for details, pls visit: \"\n",
    "    tmp+=i['confUrl']\n",
    "    list2_free.append(tmp)"
   ]
  },
  {
   "cell_type": "code",
   "execution_count": 29,
   "metadata": {},
   "outputs": [
    {
     "name": "stdout",
     "output_type": "stream",
     "text": [
      "AWS Innovate Online Conference held on:  19 Feb, 2020 to 19 Feb, 2020 at Online at   Free for details, pls visit: https://aws.amazon.com/events/aws-innovate/machine-learning/\n",
      "Redis Day Bangalore held on:  21 Jan, 2020 to 22 Jan, 2020 at Taj Yeshwantpur, Bengaluru, 2275, Tumkur Road, Yeshwanthpur Industrial Area, Phase 1, Yeshwantpur, Bengaluru, Karnataka 560022, India at Bangalore India Free for details, pls visit: https://connect.redislabs.com/redisdaybangalore\n",
      "WineWorks held on:  22 Jan, 2020 to 23 Jan, 2020 at San Francisco, CA, USA at San Francisco USA Free for details, pls visit: https://www.papercall.io/osqueryatscale-cfp\n",
      "AWS Community Day held on:  31 Jan, 2020 to 31 Jan, 2020 at Stockholm, Sweden at Stockholm Swedan Free for details, pls visit: https://awscommunitynordics.org/communityday/\n",
      "International Conference On Internet Of Things Big Data Analytics And Information Technology held on:  01 Feb, 2020 to 01 Feb, 2020 at Chennai, Tamil Nadu, India at Chennai  India Free for details, pls visit: https://www.allconferencealert.com/event-detail.html?ev_id=357894&eventname=international-conference-on-internet-of-things-big-data-analytics-and-information-technology(icitbdit--2020)\n",
      "International Conference On Big Data IoT Cyber Security And Information Technology held on:  02 Feb, 2020 to 02 Feb, 2020 at New Delhi, India at New Delhi  India Free for details, pls visit: https://www.allconferencealert.com/event-detail.html?ev_id=353891&eventname=international-conference-on-big-data-iot-cyber-security-and-information-technology-(icbdicsit)\n",
      "ChiBrrCon 2020 held on:  04 Feb, 2020 to 04 Feb, 2020 at Chicago, IL, USA at Chicago USA Free for details, pls visit: https://www.papercall.io/chibrrcon2020\n",
      "DATACLOUD INDIA 2020 held on:  05 Feb, 2020 to 06 Feb, 2020 at 462, Senapati Bapat Marg, Lower Parel, Mumbai, Maharashtra 400013, India at Mumbai India Free for details, pls visit: https://www.datacloudindia.com/\n",
      "NIC 20 20 Vision Edition held on:  06 Feb, 2020 to 06 Feb, 2020 at Oslo, Norway at Oslo Norway Free for details, pls visit: https://www.papercall.io/nic2020\n",
      "PyCascades 2020 held on:  08 Feb, 2020 to 09 Feb, 2020 at Portland, OR, USA at Portland USA Free for details, pls visit: https://www.papercall.io/pycascades-2020\n",
      "BSidesSF 2020 held on:  23 Feb, 2020 to 24 Feb, 2020 at San Francisco, CA, USA at San Francisco USA Free for details, pls visit: https://www.papercall.io/bsidessf-2020\n",
      "PyTennessee 2020 held on:  07 Mar, 2020 to 08 Mar, 2020 at Nashville School Of Law, Armory Oaks Drive, Nashville, TN, USA at Nashville USA Free for details, pls visit: https://www.papercall.io/pytn-2020\n",
      "WeRockIT Developers Conference 2020 held on:  26 Mar, 2020 to 27 Mar, 2020 at ADTRAN Mark C. Smith Conference Center  ADTRAN East Tower, 965 Explorer Blvd NW, Huntsville, AL 35806 at Huntsville USA Free for details, pls visit: https://www.papercall.io/werockitconf2020\n",
      " Connectaha 2020 held on:  27 Mar, 2020 to 27 Mar, 2020 at Walter Scott Conference Center at Omaha USA Free for details, pls visit: https://www.papercall.io/connectaha-2020\n",
      "DevOpsDays Vancouver 2020 held on:  30 Mar, 2020 to 31 Mar, 2020 at UBC Robson Square, Vancouver, Canada 800 Robson St, Vancouver, BC V6Z 3B7 at Vancover Canada Free for details, pls visit: https://www.papercall.io/devopsdays-vancouver-2020\n",
      "Microsoft Ignite The Tour 2019 2020 held on:  02 Apr, 2020 to 03 Apr, 2020 at Mumbai, Maharashtra, India at Mumbai  India Free for details, pls visit: https://www.microsoft.com/en-us/ignite-the-tour/\n",
      " NET Fwdays held on:  11 Apr, 2020 to 11 Apr, 2020 at Mercure Congress Hall,4 floor at Kyiv  Ukraine Free for details, pls visit: https://fwdays.com/en/event/dotnet-fwdays-2020\n",
      "403 Forbidden held on:  27 Apr, 2020 to 29 Apr, 2020 at Fairmont Austin | 101 Red River St, Austin, TX 78701 at  Austin  Free for details, pls visit: https://saucecon.com\n",
      " PHP Fwdays held on:  30 May, 2020 to 30 May, 2020 at Kyiv, Mercure Congress Hall, 5 floor at Kyiv  Ukraine Free for details, pls visit: https://fwdays.com/en/event/php-fwdays-2020\n",
      "Devopscon held on:  08 Jun, 2020 to 11 Jun, 2020 at Mercure Hotel MOA Berlin, Stephanstraße, Berlin, Germany at  Berlin Free for details, pls visit: https://devopscon.io/berlin/\n",
      "Amazon Alexa VOICE held on:  05 Oct, 2020 to 08 Oct, 2020 at Washington D.C., DC, USA at Washington D.C.  USA Free for details, pls visit: https://www.voicesummit.ai/\n",
      "Voice Meetup: what3words edition with Speechmatics | Meetup held on:  28 January, 2020 to 28 January, 2020 at Krux London Ltd, 65 Alfred Rd, London W2 5EU, UK at  London  United Kingdom Free for details, pls visit: https://www.meetup.com/Messaging-Bots-London/events/267294132/\n",
      "Cambridge Alexa Developers Meetup held on:  12 February, 2020 to 12 February, 2020 at Cambridge, United Kingdom at  Cambridge    United Kingdom Free for details, pls visit: https://www.meetup.com/Cambridge-Alexa-Developers-Meetup/\n",
      "Amazon Alexa Paris held on:  16 February, 2020 to 16 February, 2020 at Paris, France at  Paris    France Free for details, pls visit: https://www.meetup.com/Amazon-Alexa-Paris/\n",
      "Women in Data Science Pune Conference held on:  29 February, 2020 to 29 February, 2020 at COEP Main Building, RB Motilal Kennedy Rd, Shivajinagar, Pune, Maharashtra 411005, India Pune, Maharashtra 411005 at  Pune    India Free for details, pls visit: https://widspune.com/\n",
      "MATLAB EXPO 2020 India held on:  21 April, 2020 to 21 April, 2020 at Radisson Blu Outer Ring Road 90-4, Outer Ring Rd, Marathahalli, Bengaluru, Karnataka 560037 at Bangalore  India Free for details, pls visit: https://www.matlabexpo.com/in/2020/bangalore/agenda.html\n",
      "MATLAB EXPO 2020 India held on:  23 April, 2020 to 23 April, 2020 at ITC Grand Chola #63, Mount Road, Guindy, Chennai, Tamil Nadu 600032 at Chennai  India Free for details, pls visit: https://www.matlabexpo.com/in/2020/chennai/agenda.html\n",
      "MATLAB EXPO 2020 India held on:  28 April, 2020 to 28 April, 2020 at JW Marriott Hotel Senapati Bapat Road, Pune, Maharashtra 411053 at Pune  India Free for details, pls visit: https://www.matlabexpo.com/in/2020/pune/agenda.html\n"
     ]
    }
   ],
   "source": [
    "for i in list2_free:\n",
    "    print(i)"
   ]
  },
  {
   "cell_type": "code",
   "execution_count": 31,
   "metadata": {},
   "outputs": [
    {
     "name": "stdout",
     "output_type": "stream",
     "text": [
      "Antarcticonf The Conference At The Edge Of The World held on:  05 Jan, 2020 to 21 Jan, 2020 at Antarctic Peninsula (from San Antonio, Chile) at San Antonio Chile Paid for details, pls visit: https://antarcticonf.com/\n",
      "Trion All India Bootcamp held on:  19 Jan, 2020 to 20 Jan, 2020 at Delhi Technological University, Shahbad Daulatpur Village, Rohini Delhi, 110042 at Delhi India Paid for details, pls visit: https://konfhub.com/trionbootcamp\n",
      "DELIVERY CONF  held on:  21 Jan, 2020 to 22 Jan, 2020 at Hyatt Regency Seattle, Howell Street, Seattle, WA, USA at Seattle USA Paid for details, pls visit: https://www.deliveryconf.com\n",
      "AppSec California held on:  21 Jan, 2020 to 24 Jan, 2020 at Annenberg Community Beach House, 415 Pacific Coast Highway, Santa Monica, CA 90402, United States at Santa Monica USA Paid for details, pls visit: https://2020.appseccalifornia.org/\n",
      "NDC Security 2020 held on:  22 Jan, 2020 to 24 Jan, 2020 at Clarion Hotel Oslo, Dronning Eufemias gate 15, 0191 Oslo, Norge at Oslo Norway Paid for details, pls visit: https://ndc-security.com/\n",
      "Machine Learning Developers held on:  22 Jan, 2020 to 23 Jan, 2020 at NIMHANS Convention center at Bangalore India Paid for details, pls visit: https://www.mlds.analyticsindiasummit.com/\n",
      "NDC London 2020  held on:  27 Jan, 2020 to 31 Jan, 2020 at Queen Elizabeth II Centre, Broad Sanctuary, London, UK at London England Paid for details, pls visit: https://ndc-london.com/\n",
      "Distributed Systems Conference  held on:  01 Feb, 2020 to 01 Feb, 2020 at Viman Nagar, Pune, Maharashtra, India at Pune India Paid for details, pls visit: https://dsconf.in/\n",
      "Data Business Congress 2020 held on:  03 Feb, 2020 to 04 Feb, 2020 at San Jose Marriott 301 S Market St San Jose, CA 95113 US at San Jose  USA Paid for details, pls visit: https://web.cvent.com/event/10240ffb-fa61-43b2-9038-73c9838049ae/summary\n",
      "Microsoft Lgnite The Tour Washington held on:  06 Feb, 2020 to 07 Feb, 2020 at Walter E. Washinton Convetion center  at Washington US Paid for details, pls visit: https://www.microsoft.com/en-us/ignite-the-tour/washington-dc\n",
      "Alexa Community Day Bengaluru 2020 held on:  08 Feb, 2020 to 08 Feb, 2020 at Bangalore International Centre (BIC), No. 7, 4th Main Rd, Stage 2, Domlur, Bengaluru, Karnataka 560071 at Bangalore India Paid for details, pls visit: https://konfhub.com/alexablr\n",
      "ANNUAL INTERNATIONAL CONFERENCE On Data Science Machine Learning Blockchain Technology held on:  12 Feb, 2020 to 13 Feb, 2020 at Vidyavardhaka College of Engineering: Department Of Electronics & Communication, Mahadeswara Badavane, Vijayanagar 1st Stage, Vijayanagar, Mysuru, Karnataka, India at Mysore  India Paid for details, pls visit: https://aicdmb.co.in/\n",
      "HR Tech held on:  15 Feb, 2020 to 15 Feb, 2020 at Taj Lands End, Mumbai, Byramji Jeejeebhoy Road, Mount Mary, Bandra West, Mumbai, Maharashtra, India at Mumbai India Paid for details, pls visit: https://www.worldhrdcongress.com/HRD/hrtech/Mumbai/mumbai-index.html\n",
      "Data Science Salon held on:  18 Feb, 2020 to 19 Feb, 2020 at Brazos Hall, 204 E 4th St  Austin, TX 78701 at Austin  USA Paid for details, pls visit: https://www.datascience.salon/austin/\n",
      "PHP UK Conference 2020  held on:  19 Feb, 2020 to 21 Feb, 2020 at London, UK at London England Paid for details, pls visit: https://www.papercall.io/phpuk2020\n",
      "GraphQL Asia 2020 held on:  20 Feb, 2020 to 22 Feb, 2020 at The Leela Palace Bengaluru, A Contemporary Luxury Hotel, HAL Old Airport Road, HAL 2nd Stage, Kodihalli, Bengaluru, Karnataka, India at Bengaluru India Paid for details, pls visit: https://graphql.asia/\n",
      "DevOpsCon London 2020 held on:  22 Feb, 2020 to 24 Feb, 2020 at Park Plaza Victoria London at London  UK Paid for details, pls visit: https://devopscon.io/london/\n",
      "Software Architecture Conference held on:  25 Feb, 2020 to 26 Feb, 2020 at Hilton Midtown,1335 Avenue of the Americas New York, New York, 10019 at New York  USA Paid for details, pls visit: https://conferences.oreilly.com/software-architecture/sa-ny\n",
      "PGConf India 2020 held on:  26 Feb, 2020 to 28 Feb, 2020 at Radisson Blu Bengaluru Outer Ring Road, 90/4, Outer Ring Road, Marathahalli Village, Marathahalli, Bengaluru, Karnataka, India at Bangalore India Paid for details, pls visit: https://pgconf.in/conferences/pgconfin2020\n",
      "QCon London held on:  02 Mar, 2020 to 04 Mar, 2020 at The queen Elizabeth 11 Conference Center - London at London UK Paid for details, pls visit: https://qconlondon.com/\n",
      "GOTO Oslo 2020 held on:  03 Mar, 2020 to 05 Mar, 2020 at Oslo, Norway at oslo norway Paid for details, pls visit: https://goto-oslo.com/\n",
      "Devopsdays NYC 2020 held on:  03 Mar, 2020 to 04 Mar, 2020 at New York Academy of Medicine 1216 5th Ave, New York, NY 10029 at New York USA Paid for details, pls visit: https://www.papercall.io/dodnyc2020\n",
      "ScaleConf  held on:  05 Mar, 2020 to 06 Mar, 2020 at Kirstenbosch Botanical Gardens, Rhodes Drive, Newlands, Cape Town, South Africa at Cape Town South Africa Paid for details, pls visit: https://scaleconf.org/\n",
      "Namma Cloud Conference held on:  06 Mar, 2020 to 07 Mar, 2020 at Radisson Blu Bengaluru Outer Ring Road , Bengaluru at Bangalore India Paid for details, pls visit: https://konfhub.com/ncc/index.html\n",
      " JavaScript Fwdays held on:  14 Mar, 2020 to 14 Mar, 2020 at 4 and 5 floors , Mercure Congress Hall,  kyiv , ukraine  at Kyiv  Ukraine Paid for details, pls visit: https://fwdays.com/en/event/js-fwdays-2020\n",
      "Agile India 2020 held on:  15 Mar, 2020 to 22 Mar, 2020 at Itc gardenia , no1 residency road Bengaluru  560025 at Bangalore India Paid for details, pls visit: https://2020.agileindia.org/\n",
      "DevOps Talks Conference Melbourne held on:  18 Mar, 2020 to 20 Mar, 2020 at Melbourne Convention and Exhibition Centre (MCEC), Convention Centre Place, South Wharf VIC, Australia at Melbourne Australia Paid for details, pls visit: https://devops.talksplus.com/au/devops.html\n",
      "Devops Pro Europe 2020 held on:  24 Mar, 2020 to 26 Mar, 2020 at Multikino Ozo str. 18, LT–08243  Vilnius, Lithuania at Vilnius  Lithuania Paid for details, pls visit: https://devopspro.lt/\n",
      "Dev Next held on:  24 Mar, 2020 to 27 Mar, 2020 at Omni Interlocken Hotel, Interlocken Boulevard, Broomfield, Colorado, USA at Broomfield USA Paid for details, pls visit: https://www.devdotnext.com/\n",
      "Scale Summit held on:  27 Mar, 2020 to 27 Mar, 2020 at 15Hatfields, 15Hatfields, London SE1 8DJ, United Kingdom at London  UK Paid for details, pls visit: https://www.scalesummit.org/\n",
      "Kubecon Cloudnative Europe held on:  30 Mar, 2020 to 02 Apr, 2020 at Europaplein 24, 1078 GZ Amsterdam, The Netherlands at Amsterdam Netherlands Paid for details, pls visit: https://events.linuxfoundation.org/kubecon-cloudnativecon-europe/\n",
      "WORLD'S ORIGINAL ANGULAR CONFERENCE held on:  01 Apr, 2020 to 03 Apr, 2020 at The Grand America Hotel, Main Street, Salt Lake City, UT, USA at Salt Lake City USA Paid for details, pls visit: https://www.ng-conf.org/\n",
      "DevOn Summit held on:  02 Apr, 2020 to 02 Apr, 2020 at Westkanaaldijk 7, 3542 DA Utrecht, Netherlands at Utrecht netherlands Paid for details, pls visit: https://www.devonsummit.com/\n",
      "DevOpsDays Toronto 2020 held on:  16 Apr, 2020 to 17 Apr, 2020 at Sheraton Centre Toronto Hotel, 123 Queen Street West, Toronto, ON M5H 2M9, Canada at Toronto  Canada Paid for details, pls visit: https://devopsdays.org/events/2020-toronto/welcome/\n",
      "NDC Porto 2020 held on:  21 Apr, 2020 to 24 Apr, 2020 at R. Nova da Alfândega, 4050-430 Porto, Portugal at Porto  Portugal Paid for details, pls visit: https://ndcporto.com/\n",
      " DEVOPS 2020 held on:  21 Apr, 2020 to 23 Apr, 2020 at Clarion Hotel Helsinki, Tyynenmerenkatu 2, FI-00220 Helsinki, Finland at Helsinki Finland Paid for details, pls visit: https://devops2020.com/\n",
      "React Day held on:  25 Apr, 2020 to 25 Apr, 2020 at Bangalore, Karnataka, India at Bangalore India Paid for details, pls visit: https://reactday.in/\n",
      "Red Hat Summit 2020  held on:  27 Apr, 2020 to 29 Apr, 2020 at San Francisco, CA, USA at San Francisco  USA Paid for details, pls visit: https://www.redhat.com/en/summit\n",
      "DevOps Conference held on:  29 Apr, 2020 to 30 Apr, 2020 at Radisson Slavyanskaya Hotel & Business Center at Moscow Russia Paid for details, pls visit: https://devoops-moscow.ru/en/\n",
      "AWS Community Day held on:  29 Apr, 2020 to 29 Apr, 2020 at AHMEDABAD MANAGEMENT ASSOCIATION(AMA)  ATIRA CAMPUS, DR VIKRAM SARABHAI MARG, UNIVERSITY AREA, AHMEDABAD, GUJARAT 380015 at Ahmedabad India Paid for details, pls visit: https://awsahmedabad.community/\n",
      "MongoDB World 2020  held on:  04 May, 2020 to 06 May, 2020 at 1335 Avenue of the Americas, New York, NY 10019, United States at New York  USA Paid for details, pls visit: https://www.eventbrite.com/e/mongodb-world-2020-tickets-63496684292\n",
      "Devopsdays Austin held on:  04 May, 2020 to 05 May, 2020 at 11301 Domain Drive, Austin, Texas 78758, USA at Austin US Paid for details, pls visit: https://devopsdays.org/events/2020-austin/welcome/\n",
      "ABOVE CLOUDS 2020 held on:  09 May, 2020 to 09 May, 2020 at Tomislavov dom hotel Sljemenska cesta 24, Zagreb Croatia, Europe at Zagreb CROATIA Paid for details, pls visit: https://www.abovecloudsconf.com/\n",
      "IcingaConf2020 held on:  23 June, 2020 to 25 June, 2020 at Piet Heinkade 179, 1019 HC Amsterdam, Netherlands at Amsterdam Netherlands Paid for details, pls visit: https://icingaconf.com/\n",
      "Ingram Micro Cloud Summit 2020 Cloud Summit held on:  12 May, 2020 to 14 May, 2020 at Miami Beach, Florida at Miami Beach  USA Paid for details, pls visit: https://cloudsummit.ingrammicrocloud.com/\n",
      "Continuos Life Cycle London 2020 held on:  13 May, 2020 to 14 May, 2020 at QEII Centre  at London  UK Paid for details, pls visit: https://continuouslifecycle.london/\n",
      "J On The Beach held on:  13 May, 2020 to 15 May, 2020 at Málaga, Spain at Málaga  Spain Paid for details, pls visit: https://www.jonthebeach.com/\n",
      "IT Security Summit 2020  held on:  18 May, 2020 to 20 May, 2020 at Holiday Inn Munich - Unterhaching, Inselkammerstraße 7-9, 82008 Unterhaching, Germany at Munich Germany Paid for details, pls visit: https://it-security-summit.de/\n",
      "DevSecCon held on:  27 May, 2020 to 29 May, 2020 at Boston Public Library, Boylston Street, Boston, MA, USA at Boston USA Paid for details, pls visit: https://www.devseccon.com/boston-2020/\n",
      "Newcrafts held on:  28 May, 2020 to 29 May, 2020 at 3, Quai de Grenelle, Paris at Paris  France Paid for details, pls visit: http://www.ncrafts.io/\n",
      "Agile Portugal  held on:  31 May, 2020 to 31 May, 2020 at ISEP - Instituto Superior de Engenharia do Porto, Rua Doutor António Bernardino de Almeida, Porto, Portugal at Porto Portugal Paid for details, pls visit: https://agilept.org\n",
      "ChefConf 2020 held on:  01 Jun, 2020 to 04 Jun, 2020 at The Hyatt Regency Seattle  at Seattle  USA Paid for details, pls visit: https://chefconf.io/\n",
      "Agile Devops West A Techwell Event held on:  07 Jun, 2020 to 12 Jun, 2020 at Caesars Palace Las Vegas Hotel & Casino, South Las Vegas Boulevard, Las Vegas, NV, USA at Las Vegas USA Paid for details, pls visit: https://agiledevopswest.techwell.com/\n",
      "Portland 2020 held on:  08 Jun, 2020 to 10 Jun, 2020 at Gerding Theater at The Armory at Oregon City  USA Paid for details, pls visit: http://monitorama.com/2020/pdx.html\n",
      "Craft Conference held on:  09 Jun, 2020 to 12 Jun, 2020 at Budapest, Hungary at Budapest  Hungary Paid for details, pls visit: https://craft-conf.com/\n",
      "FlOW held on:  10 Jun, 2020 to 11 Jun, 2020 at Kinepolis Jaarbeurs Utrecht at Utrecht Netherlands Paid for details, pls visit: https://srvision.nl/en\n",
      "QCon held on:  15 Jun, 2020 to 19 Jun, 2020 at Marriott Marquis ny at New York US Paid for details, pls visit: https://qconnewyork.com/\n",
      "DockerCon held on:  15 Jun, 2020 to 18 Jun, 2020 at austin at Austin  US Paid for details, pls visit: https://www.docker.com/dockercon/\n",
      "Internet Of Things Conference 2020 held on:  17 Jun, 2020 to 19 Jun, 2020 at Sheraton Munich Arabellapark Hotel, Arabellastraße 5, 81925 Munich, Germany at Munich Germany Paid for details, pls visit: https://iotcon.de/de/\n",
      "Machine Learning Conference held on:  17 Jun, 2020 to 19 Jun, 2020 at Sheraton Munich Arabellapark Hotel, Arabellastraße 5, 81925 Munich, Germany at Munich Germany Paid for details, pls visit: https://mlconference.ai/\n",
      "Bareos held on:  19 Jun, 2020 to 19 Jun, 2020 at Nh Collection Berlin Mitte Friedrichstrasse, Georgenstraße, Berlin, Germany at Berlin  Germany Paid for details, pls visit: https://opensourcecamp.de/\n",
      "DevOps Enterprise Summit held on:  23 Jun, 2020 to 25 Jun, 2020 at Waterview Dr, London SE10 0TW, UK at London  UK Paid for details, pls visit: https://events.itrevolution.com/eur\n",
      "DevOps Enterprise Summit held on:  23 Jun, 2020 to 25 Jun, 2020 at InterContinental London – The O2 at London  UK Paid for details, pls visit: https://events.itrevolution.com/\n",
      "DevOps India Summit held on:  10 Jul, 2020 to 11 Jul, 2020 at Sheraton Grand Bengaluru Whitefield Hotel & Convention Center, Thigalarapalya, Whitefield, Bengaluru, Karnataka, India at Bengaluru India Paid for details, pls visit: https://devopsindiasummit.com/\n",
      "MongoDB Local Houston 2019  held on:  20 Aug, 2020 to 20 Aug, 2020 at House of Blues Houston, Caroline Street, Houston, TX, USA at Houston Texas Paid for details, pls visit: https://www.eventbrite.com/e/mongodblocal-houston-2019-tickets-64189746259\n",
      "IoTShow.in held on:  13 Feb, 2020 to 15 Feb, 2020 at KTPO, KIADB Export Promotion Industrial Area, Whitefield, Bengaluru, Karnataka, India at  Bangalore India Paid for details, pls visit: https://www.iotshow.in/\n",
      "Machine Learning Developers held on:  30 Jan, 2020 to 31 Jan, 2020 at Khemka Auditorium, Indian School of Business, Hyderabad, India at  Hyderabad India Paid for details, pls visit: https://www.mlds.analyticsindiasummit.com/\n",
      "Title of conf held on:  07 May, 2020 to 07 May, 2020 at The gorgeous Garden Theater in Midtown Detroit, Michigan at  Detroit USA Paid for details, pls visit: https://www.titleofconf.org/\n",
      "self.conference held on:  08 May, 2020 to 09 May, 2020 at Charles H. Wright Museum, 315 E Warren Ave, Detroit, MI 48201, USA at  Detroit USA Paid for details, pls visit: https://selfconference.org/\n",
      "Open UP Global Summit 2020 held on:  12 Sept, 2020 to 13 Sept, 2020 at Syntrend, Section 3, Civic Boulevard, Zhongzheng District, Taipei City, Taiwan at  Taipei Taiwan Paid for details, pls visit: https://www.wetogether.co/events/10038\n",
      "Car Summit held on:  07 April, 2020 to 08 April, 2020 at Club Auto Sport  Club Auto Sport - San Jose, California at  San Jose USA Paid for details, pls visit: https://www.voiceofthecar.com/\n",
      "Conversational Interaction Conference held on:  10 February, 2020 to 11 February, 2020 at 2050 Gateway Place, San Jose, California 95110, USA at  San Jose USA Paid for details, pls visit: https://www.conversationalinteraction.com/\n",
      "Speech Tek held on:  27 April, 2020 to 29 April, 2020 at JW MARRIOTT WASHINGTON DC, USA at  Washington D.C. USA Paid for details, pls visit: https://www.speechtek.com/2019/default.aspx\n",
      "One Voice Conference held on:  07 May, 2020 to 10 May, 2020 at 265 Rotherhithe St, London SE16 5HW, UK at  London United Kingdom Paid for details, pls visit: https://www.onevoiceconference.com/\n",
      "Voice of Healthcare Summit held on:  05 August, 2020 to 06 August, 2020 at 77 Avenue Louis Pasteur, Boston, MA 02115, USA at  Boston USA Paid for details, pls visit: https://www.vohsummit.com/\n",
      "Frontend Developer Love held on:  05 August, 2020 to 21 February, 2020 at Theater Carré, Amstel, Amsterdam, Netherlands at  Amsterdam  Netherlands Paid for details, pls visit: https://frontenddeveloperlove.com/\n",
      "JSConf Mexico held on:  04 May, 2020 to 05 May, 2020 at Mexico city, Mexico at  Mexico city  Mexico Paid for details, pls visit: https://jsconf.mx/\n",
      "Smart Commerce 2020 held on:  29 January, 2020 to 29 January, 2020 at Kattilahalli, Sörnäisten rantatie 22, 00540 Helsinki, Finland at  kattilahalli    Helsinki Paid for details, pls visit: https://www.smartcommercenordic.com/\n",
      "Business of BOTS held on:  05 February, 2020 to 07 February, 2020 at Marines’ Memorial Club & Hotel 609 Sutter St.San Francisco, CA 94102 at  San francisco    USA Paid for details, pls visit: https://businessofbots.com/\n",
      "Alexa Community Day held on:  08 February, 2020 to 08 February, 2020 at Bangalore International Centre (BIC), 7, 4th Main Road, Domlur II Stage, Bengaluru, Karnataka 560071 at  Bangalore    India Paid for details, pls visit: https://www.alexacommunity.in/\n",
      "Byteconf GraphQL 2020 held on:  31 January, 2020 to 01 February, 2020 at online at       Paid for details, pls visit: https://www.bytesized.xyz/graphql-2020\n",
      "The Global Women in Data Science Hyderabad held on:  15 February, 2020 to 15 February, 2020 at Amazon Development Centre India Pvt Ltd  Sy No: 115 part, Plot No 12P, 13,14, 15P, Financial District, Nanakramguda, Gachibowli, Serilingampalli, Hyderabad - 500032, Telangana, India. at  Hyderabad    India Paid for details, pls visit: http://widshyderabad2019.com/\n",
      "collision held on:  22 June, 2020 to 25 June, 2020 at enercare centre princes' boulevard toronto on at  Toronto     Canada Paid for details, pls visit: https://collisionconf.com/\n",
      "ng-India held on:  29 February, 2020 to 29 February, 2020 at The Leela Ambience Convention Hotel Delhi, 1, CBD, Maharaj Surajmal Road Near Yamuna Sports Complex, Delhi, 110032 at  Delhi     India Paid for details, pls visit: https://www.ng-ind.com/\n",
      "Serverless Architecture Conference held on:  20 April, 2020 to 22 April, 2020 at THE HAGUE MARRIOTT HOTEL Johan De Wittlaan 30, 2517 JR The Hague at  The Hague   Netherlands Paid for details, pls visit: https://serverless-architecture.io/\n",
      "Voxxed Days Singapore 2020 held on:  05 June, 2020 to 05 June, 2020 at Singapore at     Singapore Paid for details, pls visit: https://voxxeddays.com/singapore/\n",
      "SuperBot 2020 held on:  31 March, 2020 to 31 March, 2020 at Bespoke Westfield San Francisco Centre 845 Market St, Level 4 San Francisco, CA 94103 at  San Francisco   USA Paid for details, pls visit: https://www.dashbot.io/superbot/sb2020/register\n",
      "DSConf 2020 held on:  01 Feb, 2020 to 01 Feb, 2020 at Novotel Pune Nagar Road, Nagar Rd, Sakore Nagar, Viman Nagar, Pune, Maharashtra 411014, India at Pune  India Paid for details, pls visit: https://dsconf.in/\n",
      "Doppa 2020 held on:  27 June, 2020 to 27 June, 2020 at Hilton, Embassy Golf Links Business Park Off Intermediate Ring Road, Domlur, Bangalore, 560071, India at Bangalore  India Paid for details, pls visit: https://doppa2020.devopsppalliance.org/\n",
      "Google Cloud Next held on:  06 April, 2020 to 08 April, 2020 at 747 Howard St, San Francisco, CA 94103, United States at San francisco  USA Paid for details, pls visit: http://g.co/cloudnext\n",
      "AWS Summit Mumbai held on:  08 April, 2020 to 09 April, 2020 at Bombay Exhibition Centre NESCO, Goregaon East, Mumbai, Maharashtra 400063, India at   Mumbai   India Paid for details, pls visit: https://aws.amazon.com/events/summits/mumbai/\n",
      "AWS Summit Mumbai held on:  08 April, 2020 to 09 April, 2020 at Bombay Exhibition Centre NESCO, Goregaon East, Mumbai, Maharashtra 400063, India at   Mumbai   India Paid for details, pls visit: https://aws.amazon.com/events/summits/mumbai/\n",
      "IUI 2020 held on:  17 March, 2020 to 20 March, 2020 at T Hotel Cagliari, Via dei Giudicati, 66, 09131 Cagliari, Cagliari Metropolitan City of Cagliari, Italy at   Cagliari    Italy Paid for details, pls visit: http://iui.acm.org/2020/\n",
      "Security Architecture Conference held on:  21 February, 2020 to 22 February, 2020 at Taj Yeswantpur,Tumkur Main Rd, Yeshwanthpur Industrial Area, Phase 1, Yeswanthpur, Bengaluru, Karnataka 560022 at Bangalore India Paid for details, pls visit: https://www.sacon.io/\n",
      "HashiConf US held on:  13 October, 2020 to 15 October, 2020 at Town and Country San Diego, 500 Hotel Cir N, San Diego, CA 92108, USA at San Diego USA Paid for details, pls visit: https://hashiconf.com/us/\n",
      "HashiConf EU held on:  08 June, 2020 to 10 June, 2020 at Gashouder, Westergafabriek, Klönneplein 1, 1014 DD Amsterdam, Netherlands at Amsterdam Netherlands Paid for details, pls visit: https://hashiconf.com/eu/\n",
      "HashiDays  held on:  06 April, 2020 to 07 April, 2020 at Roslyn Packer Theatre, Hickson Road, Walsh Bay NSW, Australia at Sydney NSW  Australia Paid for details, pls visit: https://hashidays.com/\n",
      "Scrum Day Chennai  held on:  25 July, 2020 to 25 July, 2020 at Novotel Chennai Omr, OMR Road, Sholinganallur, Chennai, Tamil Nadu, India at Chennai  India Paid for details, pls visit: http://www.scrumdaychennai.com/\n",
      "JuliaCon 2020  held on:  27 July, 2020 to 31 July, 2020 at Iscte - Instituto Universitário de Lisboa, Avenida das Forças Armadas, Lisbon, Portugal at Lisbon Portugal Paid for details, pls visit: https://juliacon.org/2020/\n",
      "REFACTOR 2020: Serverless  held on:  22 May, 2020 to 22 May, 2020 at Toronto Public Library - Toronto Reference Library, 789 Yonge Street, Toronto, ON, Canada at Toronto  Canada Paid for details, pls visit: https://refactorconf.com/2020/serverless/\n",
      "GraphQL Summit  held on:  27 October, 2020 to 28 October, 2020 at Hilton San Francisco Union Square, O'Farrell Street, San Francisco, CA, USA at San Francisco  USA Paid for details, pls visit: https://summit.graphql.com/\n",
      "React Day Norway held on:  26 June, 2020 to 26 June, 2020 at Farris Bad Fritzøe Brygge 2 3264 Larvik Norway at Larvik   Norway Paid for details, pls visit: https://reactnorway.com/\n",
      "Cloud Native Security Day held on:  30 March, 2020 to 30 March, 2020 at RAI Amsterdam in Amsterdam, The Netherlands at Amsterdam The Netherlands Paid for details, pls visit: https://events.linuxfoundation.org/cloud-native-security-day/\n",
      "AWS Innovate Online Conference held on:  19 Feb, 2020 to 19 Feb, 2020 at Online at   Free for details, pls visit: https://aws.amazon.com/events/aws-innovate/machine-learning/\n",
      "Redis Day Bangalore held on:  21 Jan, 2020 to 22 Jan, 2020 at Taj Yeshwantpur, Bengaluru, 2275, Tumkur Road, Yeshwanthpur Industrial Area, Phase 1, Yeshwantpur, Bengaluru, Karnataka 560022, India at Bangalore India Free for details, pls visit: https://connect.redislabs.com/redisdaybangalore\n",
      "WineWorks held on:  22 Jan, 2020 to 23 Jan, 2020 at San Francisco, CA, USA at San Francisco USA Free for details, pls visit: https://www.papercall.io/osqueryatscale-cfp\n",
      "AWS Community Day held on:  31 Jan, 2020 to 31 Jan, 2020 at Stockholm, Sweden at Stockholm Swedan Free for details, pls visit: https://awscommunitynordics.org/communityday/\n",
      "International Conference On Internet Of Things Big Data Analytics And Information Technology held on:  01 Feb, 2020 to 01 Feb, 2020 at Chennai, Tamil Nadu, India at Chennai  India Free for details, pls visit: https://www.allconferencealert.com/event-detail.html?ev_id=357894&eventname=international-conference-on-internet-of-things-big-data-analytics-and-information-technology(icitbdit--2020)\n",
      "International Conference On Big Data IoT Cyber Security And Information Technology held on:  02 Feb, 2020 to 02 Feb, 2020 at New Delhi, India at New Delhi  India Free for details, pls visit: https://www.allconferencealert.com/event-detail.html?ev_id=353891&eventname=international-conference-on-big-data-iot-cyber-security-and-information-technology-(icbdicsit)\n",
      "ChiBrrCon 2020 held on:  04 Feb, 2020 to 04 Feb, 2020 at Chicago, IL, USA at Chicago USA Free for details, pls visit: https://www.papercall.io/chibrrcon2020\n",
      "DATACLOUD INDIA 2020 held on:  05 Feb, 2020 to 06 Feb, 2020 at 462, Senapati Bapat Marg, Lower Parel, Mumbai, Maharashtra 400013, India at Mumbai India Free for details, pls visit: https://www.datacloudindia.com/\n",
      "NIC 20 20 Vision Edition held on:  06 Feb, 2020 to 06 Feb, 2020 at Oslo, Norway at Oslo Norway Free for details, pls visit: https://www.papercall.io/nic2020\n",
      "PyCascades 2020 held on:  08 Feb, 2020 to 09 Feb, 2020 at Portland, OR, USA at Portland USA Free for details, pls visit: https://www.papercall.io/pycascades-2020\n",
      "BSidesSF 2020 held on:  23 Feb, 2020 to 24 Feb, 2020 at San Francisco, CA, USA at San Francisco USA Free for details, pls visit: https://www.papercall.io/bsidessf-2020\n",
      "PyTennessee 2020 held on:  07 Mar, 2020 to 08 Mar, 2020 at Nashville School Of Law, Armory Oaks Drive, Nashville, TN, USA at Nashville USA Free for details, pls visit: https://www.papercall.io/pytn-2020\n",
      "WeRockIT Developers Conference 2020 held on:  26 Mar, 2020 to 27 Mar, 2020 at ADTRAN Mark C. Smith Conference Center  ADTRAN East Tower, 965 Explorer Blvd NW, Huntsville, AL 35806 at Huntsville USA Free for details, pls visit: https://www.papercall.io/werockitconf2020\n",
      " Connectaha 2020 held on:  27 Mar, 2020 to 27 Mar, 2020 at Walter Scott Conference Center at Omaha USA Free for details, pls visit: https://www.papercall.io/connectaha-2020\n",
      "DevOpsDays Vancouver 2020 held on:  30 Mar, 2020 to 31 Mar, 2020 at UBC Robson Square, Vancouver, Canada 800 Robson St, Vancouver, BC V6Z 3B7 at Vancover Canada Free for details, pls visit: https://www.papercall.io/devopsdays-vancouver-2020\n",
      "Microsoft Ignite The Tour 2019 2020 held on:  02 Apr, 2020 to 03 Apr, 2020 at Mumbai, Maharashtra, India at Mumbai  India Free for details, pls visit: https://www.microsoft.com/en-us/ignite-the-tour/\n",
      " NET Fwdays held on:  11 Apr, 2020 to 11 Apr, 2020 at Mercure Congress Hall,4 floor at Kyiv  Ukraine Free for details, pls visit: https://fwdays.com/en/event/dotnet-fwdays-2020\n",
      "403 Forbidden held on:  27 Apr, 2020 to 29 Apr, 2020 at Fairmont Austin | 101 Red River St, Austin, TX 78701 at  Austin  Free for details, pls visit: https://saucecon.com\n",
      " PHP Fwdays held on:  30 May, 2020 to 30 May, 2020 at Kyiv, Mercure Congress Hall, 5 floor at Kyiv  Ukraine Free for details, pls visit: https://fwdays.com/en/event/php-fwdays-2020\n",
      "Devopscon held on:  08 Jun, 2020 to 11 Jun, 2020 at Mercure Hotel MOA Berlin, Stephanstraße, Berlin, Germany at  Berlin Free for details, pls visit: https://devopscon.io/berlin/\n",
      "Amazon Alexa VOICE held on:  05 Oct, 2020 to 08 Oct, 2020 at Washington D.C., DC, USA at Washington D.C.  USA Free for details, pls visit: https://www.voicesummit.ai/\n",
      "Voice Meetup: what3words edition with Speechmatics | Meetup held on:  28 January, 2020 to 28 January, 2020 at Krux London Ltd, 65 Alfred Rd, London W2 5EU, UK at  London  United Kingdom Free for details, pls visit: https://www.meetup.com/Messaging-Bots-London/events/267294132/\n",
      "Cambridge Alexa Developers Meetup held on:  12 February, 2020 to 12 February, 2020 at Cambridge, United Kingdom at  Cambridge    United Kingdom Free for details, pls visit: https://www.meetup.com/Cambridge-Alexa-Developers-Meetup/\n",
      "Amazon Alexa Paris held on:  16 February, 2020 to 16 February, 2020 at Paris, France at  Paris    France Free for details, pls visit: https://www.meetup.com/Amazon-Alexa-Paris/\n",
      "Women in Data Science Pune Conference held on:  29 February, 2020 to 29 February, 2020 at COEP Main Building, RB Motilal Kennedy Rd, Shivajinagar, Pune, Maharashtra 411005, India Pune, Maharashtra 411005 at  Pune    India Free for details, pls visit: https://widspune.com/\n",
      "MATLAB EXPO 2020 India held on:  21 April, 2020 to 21 April, 2020 at Radisson Blu Outer Ring Road 90-4, Outer Ring Rd, Marathahalli, Bengaluru, Karnataka 560037 at Bangalore  India Free for details, pls visit: https://www.matlabexpo.com/in/2020/bangalore/agenda.html\n",
      "MATLAB EXPO 2020 India held on:  23 April, 2020 to 23 April, 2020 at ITC Grand Chola #63, Mount Road, Guindy, Chennai, Tamil Nadu 600032 at Chennai  India Free for details, pls visit: https://www.matlabexpo.com/in/2020/chennai/agenda.html\n",
      "MATLAB EXPO 2020 India held on:  28 April, 2020 to 28 April, 2020 at JW Marriott Hotel Senapati Bapat Road, Pune, Maharashtra 411053 at Pune  India Free for details, pls visit: https://www.matlabexpo.com/in/2020/pune/agenda.html\n"
     ]
    }
   ],
   "source": [
    "list_final=list1_paid+list2_free\n",
    "\n",
    "for i in list_final:\n",
    "    print(i)"
   ]
  },
  {
   "cell_type": "markdown",
   "metadata": {},
   "source": [
    "# Task 2: Identify exact duplicates (if any)"
   ]
  },
  {
   "cell_type": "code",
   "execution_count": 38,
   "metadata": {},
   "outputs": [],
   "source": [
    "# Duplicate element indices in list \n",
    "\n",
    "# METHOD=1\n",
    "# Using list comprehension + list slicing \n",
    "#duplicates = [idx for idx, val in enumerate(list_final) if val in list_final[:idx]]\n",
    "\n",
    "#METHOD-2\n",
    "# Duplicate element indices in list \n",
    "# Using set() + loop \n",
    "lis=list_final\n",
    "oc_set = set() \n",
    "duplicates = [] \n",
    "for idx, val in enumerate(lis): \n",
    "    if val not in oc_set: \n",
    "        oc_set.add(val)          \n",
    "    else: \n",
    "        duplicates.append(val)  "
   ]
  },
  {
   "cell_type": "code",
   "execution_count": 41,
   "metadata": {},
   "outputs": [
    {
     "name": "stdout",
     "output_type": "stream",
     "text": [
      "<class 'list'>\n",
      "1\n",
      "AWS Summit Mumbai held on:  08 April, 2020 to 09 April, 2020 at Bombay Exhibition Centre NESCO, Goregaon East, Mumbai, Maharashtra 400063, India at   Mumbai   India Paid for details, pls visit: https://aws.amazon.com/events/summits/mumbai/\n"
     ]
    }
   ],
   "source": [
    "print(type(duplicates))\n",
    "print(len(duplicates))\n",
    "for i in duplicates:\n",
    "    print(i)"
   ]
  },
  {
   "cell_type": "markdown",
   "metadata": {},
   "source": [
    "# TASK-3 Identify semantic duplicates (i.e., the conferences are same but the details provided are slightly different, e.g., “React Conference 2019” in one entry and “ReactConf ‘19” in another entry but the other fields are same or similar). \n",
    "\n"
   ]
  },
  {
   "cell_type": "code",
   "execution_count": null,
   "metadata": {},
   "outputs": [],
   "source": [
    "# var = json.dumps(data['paid'] + data['free'])\n",
    "# print(type(var))\n",
    "# print(len(var))\n",
    "\n",
    "#above method needs lots of pre-processing"
   ]
  },
  {
   "cell_type": "code",
   "execution_count": 59,
   "metadata": {},
   "outputs": [
    {
     "name": "stdout",
     "output_type": "stream",
     "text": [
      "<class 'list'>\n",
      "131\n",
      "103\n",
      "28\n",
      "{'emailId': '', 'city': 'San Antonio', 'twitter_handle': '@shambanit', 'keywordSupport': 'HTML,CSS,vanilla Javascript', 'country': 'Chile', 'imageURL': '\"https://storage.googleapis.com/konfhub-bd9c9.appspot.com/48345.jpg?Expires=4718158672&GoogleAccessId=firebase-adminsdk-r3qh4%40konfhub-bd9c9.iam.gserviceaccount.com&Signature=YmTxAU3JAULKdQ%2FhyVszOooug822rJMoKhCs2Bk8%2Bs3mkzgPfUBv%2By8xL1SuCzZST4zliO2PTRIsn1AKs3%2Bft5HpmtViE%2FgIowjPTuyRtREOgebDrs8pBrMO2MfVtpmOZ4tpojSicQmMOKz%2F4K9%2FhoP6%2FHjaBpoqM1VTKzWv059ez5fzaRYKfpAO5%2BOMBs%2B8xlXjeh0mI%2BTjaIsn45BYRr0v9lBN2TBncYaVJTLknOFyTTVQ5QDYLnTj42YyquwUMuen%2FE6ZsURZTOtvh%2BdOJ95rTyBuaXbVfaimr4%2BI4Mp0VQWxMfKGwZjVEXtU%2Bx9WW7NJBkHA2Cr7RmQLnKrxjQ%3D%3D\"', 'venue': 'Antarctic Peninsula (from San Antonio, Chile)', 'searchTerms': ' Antarcticonf, Antarcticonf The Conference At The Edge Of The World, , January, Paid, 1564558672, uruguay ', 'confName': 'Antarcticonf The Conference At The Edge Of The World', 'state': '', 'long': '-55.76583500000004', 'confEndDate': '21 Jan, 2020', 'conference_id': 1564558672, 'lat': '-32.522779', 'user_id': '1560144629', 'confUrl': 'https://antarcticonf.com/', 'confStartDate': '05 Jan, 2020', 'entryType': 'Paid', 'confRegUrl': 'https://antarcticonf.com/'}\n",
      "Antarcticonf The Conference At The Edge Of The World\n"
     ]
    }
   ],
   "source": [
    "myDict= data['paid']+data['free']\n",
    "print(type(myDict))\n",
    "print(len(myDict))\n",
    "print(len(data['paid']))\n",
    "print(len(data['free']))\n",
    "print(myDict[0])\n",
    "print(myDict[0]['confName'])\n"
   ]
  },
  {
   "cell_type": "code",
   "execution_count": 55,
   "metadata": {},
   "outputs": [],
   "source": [
    "set_conferences=set()\n"
   ]
  },
  {
   "cell_type": "code",
   "execution_count": 64,
   "metadata": {},
   "outputs": [
    {
     "name": "stdout",
     "output_type": "stream",
     "text": [
      "<class 'dict'>\n"
     ]
    }
   ],
   "source": [
    "print(type(myDict[0]))"
   ]
  },
  {
   "cell_type": "code",
   "execution_count": 67,
   "metadata": {},
   "outputs": [],
   "source": [
    "Dict_res={}\n",
    "\n",
    "for i in data['free']:\n",
    "    if i['confName'] not in set_conferences:\n",
    "        set_conferences.add(i['confName'])\n",
    "        tmp_var=i['confName']+\" held on:  \"+i['confStartDate']+\" to \"+i['confEndDate']+ \" at \"\n",
    "        tmp_var+=i['venue']+\" at \"+i['city']+\" \"+i['country']+\" \"+i['entryType']+\" for details, pls visit: \"\n",
    "        tmp_var+=i['confUrl']\n",
    "        Dict_res[i['confName']] = []\n",
    "        Dict_res[i['confName']].append(tmp_var)\n",
    "    else:\n",
    "        tmp_var=i['confName']+\" held on:  \"+i['confStartDate']+\" to \"+i['confEndDate']+ \" at \"\n",
    "        tmp_var+=i['venue']+\" at \"+i['city']+\" \"+i['country']+\" \"+i['entryType']+\" for details, pls visit: \"\n",
    "        tmp_var+=i['confUrl']\n",
    "        Dict_res[i['confName']] = []\n",
    "        Dict_res[i['confName']].append(tmp_var)\n",
    "    \n",
    "    \n"
   ]
  },
  {
   "cell_type": "code",
   "execution_count": 70,
   "metadata": {},
   "outputs": [
    {
     "name": "stdout",
     "output_type": "stream",
     "text": [
      "{'AWS Innovate Online Conference': ['AWS Innovate Online Conference held on:  19 Feb, 2020 to 19 Feb, 2020 at Online at   Free for details, pls visit: https://aws.amazon.com/events/aws-innovate/machine-learning/'], 'Redis Day Bangalore': ['Redis Day Bangalore held on:  21 Jan, 2020 to 22 Jan, 2020 at Taj Yeshwantpur, Bengaluru, 2275, Tumkur Road, Yeshwanthpur Industrial Area, Phase 1, Yeshwantpur, Bengaluru, Karnataka 560022, India at Bangalore India Free for details, pls visit: https://connect.redislabs.com/redisdaybangalore'], 'WineWorks': ['WineWorks held on:  22 Jan, 2020 to 23 Jan, 2020 at San Francisco, CA, USA at San Francisco USA Free for details, pls visit: https://www.papercall.io/osqueryatscale-cfp'], 'AWS Community Day': ['AWS Community Day held on:  31 Jan, 2020 to 31 Jan, 2020 at Stockholm, Sweden at Stockholm Swedan Free for details, pls visit: https://awscommunitynordics.org/communityday/'], 'International Conference On Internet Of Things Big Data Analytics And Information Technology': ['International Conference On Internet Of Things Big Data Analytics And Information Technology held on:  01 Feb, 2020 to 01 Feb, 2020 at Chennai, Tamil Nadu, India at Chennai  India Free for details, pls visit: https://www.allconferencealert.com/event-detail.html?ev_id=357894&eventname=international-conference-on-internet-of-things-big-data-analytics-and-information-technology(icitbdit--2020)'], 'International Conference On Big Data IoT Cyber Security And Information Technology': ['International Conference On Big Data IoT Cyber Security And Information Technology held on:  02 Feb, 2020 to 02 Feb, 2020 at New Delhi, India at New Delhi  India Free for details, pls visit: https://www.allconferencealert.com/event-detail.html?ev_id=353891&eventname=international-conference-on-big-data-iot-cyber-security-and-information-technology-(icbdicsit)'], 'ChiBrrCon 2020': ['ChiBrrCon 2020 held on:  04 Feb, 2020 to 04 Feb, 2020 at Chicago, IL, USA at Chicago USA Free for details, pls visit: https://www.papercall.io/chibrrcon2020'], 'DATACLOUD INDIA 2020': ['DATACLOUD INDIA 2020 held on:  05 Feb, 2020 to 06 Feb, 2020 at 462, Senapati Bapat Marg, Lower Parel, Mumbai, Maharashtra 400013, India at Mumbai India Free for details, pls visit: https://www.datacloudindia.com/'], 'NIC 20 20 Vision Edition': ['NIC 20 20 Vision Edition held on:  06 Feb, 2020 to 06 Feb, 2020 at Oslo, Norway at Oslo Norway Free for details, pls visit: https://www.papercall.io/nic2020'], 'PyCascades 2020': ['PyCascades 2020 held on:  08 Feb, 2020 to 09 Feb, 2020 at Portland, OR, USA at Portland USA Free for details, pls visit: https://www.papercall.io/pycascades-2020'], 'BSidesSF 2020': ['BSidesSF 2020 held on:  23 Feb, 2020 to 24 Feb, 2020 at San Francisco, CA, USA at San Francisco USA Free for details, pls visit: https://www.papercall.io/bsidessf-2020'], 'PyTennessee 2020': ['PyTennessee 2020 held on:  07 Mar, 2020 to 08 Mar, 2020 at Nashville School Of Law, Armory Oaks Drive, Nashville, TN, USA at Nashville USA Free for details, pls visit: https://www.papercall.io/pytn-2020'], 'WeRockIT Developers Conference 2020': ['WeRockIT Developers Conference 2020 held on:  26 Mar, 2020 to 27 Mar, 2020 at ADTRAN Mark C. Smith Conference Center  ADTRAN East Tower, 965 Explorer Blvd NW, Huntsville, AL 35806 at Huntsville USA Free for details, pls visit: https://www.papercall.io/werockitconf2020'], ' Connectaha 2020': [' Connectaha 2020 held on:  27 Mar, 2020 to 27 Mar, 2020 at Walter Scott Conference Center at Omaha USA Free for details, pls visit: https://www.papercall.io/connectaha-2020'], 'DevOpsDays Vancouver 2020': ['DevOpsDays Vancouver 2020 held on:  30 Mar, 2020 to 31 Mar, 2020 at UBC Robson Square, Vancouver, Canada 800 Robson St, Vancouver, BC V6Z 3B7 at Vancover Canada Free for details, pls visit: https://www.papercall.io/devopsdays-vancouver-2020'], 'Microsoft Ignite The Tour 2019 2020': ['Microsoft Ignite The Tour 2019 2020 held on:  02 Apr, 2020 to 03 Apr, 2020 at Mumbai, Maharashtra, India at Mumbai  India Free for details, pls visit: https://www.microsoft.com/en-us/ignite-the-tour/'], ' NET Fwdays': [' NET Fwdays held on:  11 Apr, 2020 to 11 Apr, 2020 at Mercure Congress Hall,4 floor at Kyiv  Ukraine Free for details, pls visit: https://fwdays.com/en/event/dotnet-fwdays-2020'], '403 Forbidden': ['403 Forbidden held on:  27 Apr, 2020 to 29 Apr, 2020 at Fairmont Austin | 101 Red River St, Austin, TX 78701 at  Austin  Free for details, pls visit: https://saucecon.com'], ' PHP Fwdays': [' PHP Fwdays held on:  30 May, 2020 to 30 May, 2020 at Kyiv, Mercure Congress Hall, 5 floor at Kyiv  Ukraine Free for details, pls visit: https://fwdays.com/en/event/php-fwdays-2020'], 'Devopscon': ['Devopscon held on:  08 Jun, 2020 to 11 Jun, 2020 at Mercure Hotel MOA Berlin, Stephanstraße, Berlin, Germany at  Berlin Free for details, pls visit: https://devopscon.io/berlin/'], 'Amazon Alexa VOICE': ['Amazon Alexa VOICE held on:  05 Oct, 2020 to 08 Oct, 2020 at Washington D.C., DC, USA at Washington D.C.  USA Free for details, pls visit: https://www.voicesummit.ai/'], 'Voice Meetup: what3words edition with Speechmatics | Meetup': ['Voice Meetup: what3words edition with Speechmatics | Meetup held on:  28 January, 2020 to 28 January, 2020 at Krux London Ltd, 65 Alfred Rd, London W2 5EU, UK at  London  United Kingdom Free for details, pls visit: https://www.meetup.com/Messaging-Bots-London/events/267294132/'], 'Cambridge Alexa Developers Meetup': ['Cambridge Alexa Developers Meetup held on:  12 February, 2020 to 12 February, 2020 at Cambridge, United Kingdom at  Cambridge    United Kingdom Free for details, pls visit: https://www.meetup.com/Cambridge-Alexa-Developers-Meetup/'], 'Amazon Alexa Paris': ['Amazon Alexa Paris held on:  16 February, 2020 to 16 February, 2020 at Paris, France at  Paris    France Free for details, pls visit: https://www.meetup.com/Amazon-Alexa-Paris/'], 'Women in Data Science Pune Conference': ['Women in Data Science Pune Conference held on:  29 February, 2020 to 29 February, 2020 at COEP Main Building, RB Motilal Kennedy Rd, Shivajinagar, Pune, Maharashtra 411005, India Pune, Maharashtra 411005 at  Pune    India Free for details, pls visit: https://widspune.com/'], 'MATLAB EXPO 2020 India': ['MATLAB EXPO 2020 India held on:  28 April, 2020 to 28 April, 2020 at JW Marriott Hotel Senapati Bapat Road, Pune, Maharashtra 411053 at Pune  India Free for details, pls visit: https://www.matlabexpo.com/in/2020/pune/agenda.html']}\n"
     ]
    }
   ],
   "source": [
    "#answer_task3\n",
    "print(Dict_res)"
   ]
  },
  {
   "cell_type": "code",
   "execution_count": null,
   "metadata": {},
   "outputs": [],
   "source": []
  },
  {
   "cell_type": "code",
   "execution_count": 73,
   "metadata": {},
   "outputs": [],
   "source": []
  },
  {
   "cell_type": "code",
   "execution_count": 74,
   "metadata": {},
   "outputs": [],
   "source": []
  },
  {
   "cell_type": "code",
   "execution_count": null,
   "metadata": {},
   "outputs": [],
   "source": []
  },
  {
   "cell_type": "code",
   "execution_count": null,
   "metadata": {},
   "outputs": [],
   "source": []
  },
  {
   "cell_type": "code",
   "execution_count": null,
   "metadata": {},
   "outputs": [],
   "source": []
  }
 ],
 "metadata": {
  "language_info": {
   "codemirror_mode": {
    "name": "ipython",
    "version": 3
   },
   "file_extension": ".py",
   "mimetype": "text/x-python",
   "name": "python",
   "nbconvert_exporter": "python",
   "pygments_lexer": "ipython3",
   "version": "3.7.3"
  }
 },
 "nbformat": 4,
 "nbformat_minor": 2
}
